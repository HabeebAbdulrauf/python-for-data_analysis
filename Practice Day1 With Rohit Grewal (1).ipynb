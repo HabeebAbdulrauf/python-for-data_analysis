{
 "cells": [
  {
   "cell_type": "code",
   "execution_count": 2,
   "metadata": {},
   "outputs": [],
   "source": [
    "import pandas as pd \n",
    "\n",
    "import numpy as np\n"
   ]
  },
  {
   "cell_type": "code",
   "execution_count": 14,
   "metadata": {},
   "outputs": [],
   "source": [
    "India_states = pd.read_csv(r\"C:\\Users\\User\\Desktop\\AI AND DATA SCIENCE BOOTCAMP\\POWER BI\\State_Region_corrected.csv\")"
   ]
  },
  {
   "cell_type": "markdown",
   "metadata": {},
   "source": [
    "### Q1. finding the null value in the data , if there is a null value then fill them with the means of the column "
   ]
  },
  {
   "cell_type": "code",
   "execution_count": 15,
   "metadata": {},
   "outputs": [
    {
     "data": {
      "text/plain": [
       "State / Union territory (UT)    0\n",
       "Area (km2)                      0\n",
       "Region                          0\n",
       "National Share (%)              2\n",
       "dtype: int64"
      ]
     },
     "execution_count": 15,
     "metadata": {},
     "output_type": "execute_result"
    }
   ],
   "source": [
    "India_states.isnull().sum()"
   ]
  },
  {
   "cell_type": "code",
   "execution_count": 55,
   "metadata": {},
   "outputs": [
    {
     "data": {
      "text/plain": [
       "57409.5"
      ]
     },
     "execution_count": 55,
     "metadata": {},
     "output_type": "execute_result"
    }
   ],
   "source": [
    "India_states['Area (km2)'].median()"
   ]
  },
  {
   "cell_type": "code",
   "execution_count": 28,
   "metadata": {},
   "outputs": [],
   "source": [
    "India_states['National Share (%)'].fillna(India_states['National Share (%)'].mean (), inplace = True)"
   ]
  },
  {
   "cell_type": "code",
   "execution_count": 29,
   "metadata": {},
   "outputs": [
    {
     "data": {
      "text/plain": [
       "State / Union territory (UT)    0\n",
       "Area (km2)                      0\n",
       "Region                          0\n",
       "National Share (%)              0\n",
       "dtype: int64"
      ]
     },
     "execution_count": 29,
     "metadata": {},
     "output_type": "execute_result"
    }
   ],
   "source": [
    "India_states.isnull().sum()"
   ]
  },
  {
   "cell_type": "markdown",
   "metadata": {},
   "source": [
    "### Q2. What are differnt type of State / Union territory (UT) in the dataset and what is the count occurence of each State / Union territory in the data"
   ]
  },
  {
   "cell_type": "code",
   "execution_count": 32,
   "metadata": {},
   "outputs": [
    {
     "data": {
      "text/plain": [
       "Himachal Pradesh                            1\n",
       "Mizoram                                     1\n",
       "Sikkim                                      1\n",
       "Manipur                                     1\n",
       "Dadra and Nagar Haveli and Daman and Diu    1\n",
       "Telangana                                   1\n",
       "Punjab                                      1\n",
       "Odisha                                      1\n",
       "Assam                                       1\n",
       "Haryana                                     1\n",
       "Puducherry                                  1\n",
       "Goa                                         1\n",
       "Tamil Nadu                                  1\n",
       "Chhattisgarh                                1\n",
       "Arunachal Pradesh                           1\n",
       "Uttarakhand                                 1\n",
       "Chandigarh                                  1\n",
       "Andhra Pradesh                              1\n",
       "Meghalaya                                   1\n",
       "Madhya Pradesh                              1\n",
       "Karnataka                                   1\n",
       "Jharkhand                                   1\n",
       "West Bengal                                 1\n",
       "Delhi                                       1\n",
       "Bihar                                       1\n",
       "Ladakh                                      1\n",
       "Tripura                                     1\n",
       "Jammu and Kashmir                           1\n",
       "Uttar Pradesh                               1\n",
       "Rajasthan                                   1\n",
       "Kerala                                      1\n",
       "Maharashtra                                 1\n",
       "Gujarat                                     1\n",
       "Nagaland                                    1\n",
       "Name: State / Union territory (UT), dtype: int64"
      ]
     },
     "execution_count": 32,
     "metadata": {},
     "output_type": "execute_result"
    }
   ],
   "source": [
    "India_states['State / Union territory (UT)'].value_counts ()"
   ]
  },
  {
   "cell_type": "markdown",
   "metadata": {},
   "source": [
    "### Q3 Show all the record where Region is Northeastern or Northern\t"
   ]
  },
  {
   "cell_type": "code",
   "execution_count": 45,
   "metadata": {},
   "outputs": [],
   "source": [
    "Rsnen=India_states[India_states['Region'].isin(['Northeastern','Northern'])]"
   ]
  },
  {
   "cell_type": "code",
   "execution_count": 48,
   "metadata": {},
   "outputs": [
    {
     "name": "stdout",
     "output_type": "stream",
     "text": [
      "<class 'pandas.core.frame.DataFrame'>\n",
      "Int64Index: 18 entries, 0 to 33\n",
      "Data columns (total 4 columns):\n",
      " #   Column                        Non-Null Count  Dtype  \n",
      "---  ------                        --------------  -----  \n",
      " 0   State / Union territory (UT)  18 non-null     object \n",
      " 1   Area (km2)                    18 non-null     int64  \n",
      " 2   Region                        18 non-null     object \n",
      " 3   National Share (%)            18 non-null     float64\n",
      "dtypes: float64(1), int64(1), object(2)\n",
      "memory usage: 720.0+ bytes\n"
     ]
    }
   ],
   "source": [
    "Rsnen.info('Region')"
   ]
  },
  {
   "cell_type": "markdown",
   "metadata": {},
   "source": [
    "### Q3 Remove all record(rows) where Area (km2)\t is less than 57409.5"
   ]
  },
  {
   "cell_type": "code",
   "execution_count": 61,
   "metadata": {},
   "outputs": [
    {
     "data": {
      "text/html": [
       "<div>\n",
       "<style scoped>\n",
       "    .dataframe tbody tr th:only-of-type {\n",
       "        vertical-align: middle;\n",
       "    }\n",
       "\n",
       "    .dataframe tbody tr th {\n",
       "        vertical-align: top;\n",
       "    }\n",
       "\n",
       "    .dataframe thead th {\n",
       "        text-align: right;\n",
       "    }\n",
       "</style>\n",
       "<table border=\"1\" class=\"dataframe\">\n",
       "  <thead>\n",
       "    <tr style=\"text-align: right;\">\n",
       "      <th></th>\n",
       "      <th>State / Union territory (UT)</th>\n",
       "      <th>Area (km2)</th>\n",
       "      <th>Region</th>\n",
       "      <th>National Share (%)</th>\n",
       "    </tr>\n",
       "  </thead>\n",
       "  <tbody>\n",
       "    <tr>\n",
       "      <th>0</th>\n",
       "      <td>Rajasthan</td>\n",
       "      <td>342239</td>\n",
       "      <td>Northern</td>\n",
       "      <td>10.550000</td>\n",
       "    </tr>\n",
       "    <tr>\n",
       "      <th>1</th>\n",
       "      <td>Madhya Pradesh</td>\n",
       "      <td>308350</td>\n",
       "      <td>Central</td>\n",
       "      <td>9.370000</td>\n",
       "    </tr>\n",
       "    <tr>\n",
       "      <th>2</th>\n",
       "      <td>Maharashtra</td>\n",
       "      <td>307713</td>\n",
       "      <td>Western</td>\n",
       "      <td>9.360000</td>\n",
       "    </tr>\n",
       "    <tr>\n",
       "      <th>3</th>\n",
       "      <td>Uttar Pradesh</td>\n",
       "      <td>240928</td>\n",
       "      <td>Northern</td>\n",
       "      <td>7.330000</td>\n",
       "    </tr>\n",
       "    <tr>\n",
       "      <th>4</th>\n",
       "      <td>Gujarat</td>\n",
       "      <td>196024</td>\n",
       "      <td>Western</td>\n",
       "      <td>5.960000</td>\n",
       "    </tr>\n",
       "    <tr>\n",
       "      <th>5</th>\n",
       "      <td>Karnataka</td>\n",
       "      <td>191791</td>\n",
       "      <td>Southern</td>\n",
       "      <td>5.830000</td>\n",
       "    </tr>\n",
       "    <tr>\n",
       "      <th>6</th>\n",
       "      <td>Andhra Pradesh</td>\n",
       "      <td>162970</td>\n",
       "      <td>Southern</td>\n",
       "      <td>4.870000</td>\n",
       "    </tr>\n",
       "    <tr>\n",
       "      <th>7</th>\n",
       "      <td>Odisha</td>\n",
       "      <td>155707</td>\n",
       "      <td>Eastern</td>\n",
       "      <td>4.730000</td>\n",
       "    </tr>\n",
       "    <tr>\n",
       "      <th>8</th>\n",
       "      <td>Chhattisgarh</td>\n",
       "      <td>135191</td>\n",
       "      <td>Central</td>\n",
       "      <td>2.798844</td>\n",
       "    </tr>\n",
       "    <tr>\n",
       "      <th>9</th>\n",
       "      <td>Tamil Nadu</td>\n",
       "      <td>130058</td>\n",
       "      <td>Southern</td>\n",
       "      <td>3.950000</td>\n",
       "    </tr>\n",
       "    <tr>\n",
       "      <th>10</th>\n",
       "      <td>Telangana</td>\n",
       "      <td>112077</td>\n",
       "      <td>Southern</td>\n",
       "      <td>3.490000</td>\n",
       "    </tr>\n",
       "    <tr>\n",
       "      <th>11</th>\n",
       "      <td>Bihar</td>\n",
       "      <td>94163</td>\n",
       "      <td>Eastern</td>\n",
       "      <td>2.860000</td>\n",
       "    </tr>\n",
       "    <tr>\n",
       "      <th>12</th>\n",
       "      <td>West Bengal</td>\n",
       "      <td>88752</td>\n",
       "      <td>Eastern</td>\n",
       "      <td>2.700000</td>\n",
       "    </tr>\n",
       "    <tr>\n",
       "      <th>13</th>\n",
       "      <td>Arunachal Pradesh</td>\n",
       "      <td>83743</td>\n",
       "      <td>Northeastern</td>\n",
       "      <td>2.540000</td>\n",
       "    </tr>\n",
       "    <tr>\n",
       "      <th>14</th>\n",
       "      <td>Jharkhand</td>\n",
       "      <td>79714</td>\n",
       "      <td>Eastern</td>\n",
       "      <td>2.798844</td>\n",
       "    </tr>\n",
       "    <tr>\n",
       "      <th>15</th>\n",
       "      <td>Assam</td>\n",
       "      <td>78438</td>\n",
       "      <td>Northeastern</td>\n",
       "      <td>2.380000</td>\n",
       "    </tr>\n",
       "    <tr>\n",
       "      <th>16</th>\n",
       "      <td>Ladakh</td>\n",
       "      <td>59146</td>\n",
       "      <td>Northern</td>\n",
       "      <td>1.800000</td>\n",
       "    </tr>\n",
       "  </tbody>\n",
       "</table>\n",
       "</div>"
      ],
      "text/plain": [
       "   State / Union territory (UT)  Area (km2)        Region  National Share (%)\n",
       "0                     Rajasthan      342239      Northern           10.550000\n",
       "1                Madhya Pradesh      308350       Central            9.370000\n",
       "2                   Maharashtra      307713       Western            9.360000\n",
       "3                 Uttar Pradesh      240928      Northern            7.330000\n",
       "4                       Gujarat      196024       Western            5.960000\n",
       "5                     Karnataka      191791      Southern            5.830000\n",
       "6                Andhra Pradesh      162970      Southern            4.870000\n",
       "7                        Odisha      155707       Eastern            4.730000\n",
       "8                  Chhattisgarh      135191       Central            2.798844\n",
       "9                    Tamil Nadu      130058      Southern            3.950000\n",
       "10                    Telangana      112077      Southern            3.490000\n",
       "11                        Bihar       94163       Eastern            2.860000\n",
       "12                  West Bengal       88752       Eastern            2.700000\n",
       "13            Arunachal Pradesh       83743  Northeastern            2.540000\n",
       "14                    Jharkhand       79714       Eastern            2.798844\n",
       "15                        Assam       78438  Northeastern            2.380000\n",
       "16                       Ladakh       59146      Northern            1.800000"
      ]
     },
     "execution_count": 61,
     "metadata": {},
     "output_type": "execute_result"
    }
   ],
   "source": [
    "India_states[~(India_states['Area (km2)'] < 57409.5)]\n",
    "\n",
    "# India_states[India_states['Area (km2)'] < 57409.5]\n"
   ]
  },
  {
   "cell_type": "markdown",
   "metadata": {},
   "source": [
    "### Q3 increase 'Area (km2)' by 3 "
   ]
  },
  {
   "cell_type": "code",
   "execution_count": 65,
   "metadata": {},
   "outputs": [
    {
     "data": {
      "text/html": [
       "<div>\n",
       "<style scoped>\n",
       "    .dataframe tbody tr th:only-of-type {\n",
       "        vertical-align: middle;\n",
       "    }\n",
       "\n",
       "    .dataframe tbody tr th {\n",
       "        vertical-align: top;\n",
       "    }\n",
       "\n",
       "    .dataframe thead th {\n",
       "        text-align: right;\n",
       "    }\n",
       "</style>\n",
       "<table border=\"1\" class=\"dataframe\">\n",
       "  <thead>\n",
       "    <tr style=\"text-align: right;\">\n",
       "      <th></th>\n",
       "      <th>State / Union territory (UT)</th>\n",
       "      <th>Area (km2)</th>\n",
       "      <th>Region</th>\n",
       "      <th>National Share (%)</th>\n",
       "    </tr>\n",
       "  </thead>\n",
       "  <tbody>\n",
       "    <tr>\n",
       "      <th>0</th>\n",
       "      <td>Rajasthan</td>\n",
       "      <td>342239</td>\n",
       "      <td>Northern</td>\n",
       "      <td>10.55</td>\n",
       "    </tr>\n",
       "    <tr>\n",
       "      <th>1</th>\n",
       "      <td>Madhya Pradesh</td>\n",
       "      <td>308350</td>\n",
       "      <td>Central</td>\n",
       "      <td>9.37</td>\n",
       "    </tr>\n",
       "  </tbody>\n",
       "</table>\n",
       "</div>"
      ],
      "text/plain": [
       "  State / Union territory (UT)  Area (km2)    Region  National Share (%)\n",
       "0                    Rajasthan      342239  Northern               10.55\n",
       "1               Madhya Pradesh      308350   Central                9.37"
      ]
     },
     "execution_count": 65,
     "metadata": {},
     "output_type": "execute_result"
    }
   ],
   "source": [
    "India_states.head(2)"
   ]
  },
  {
   "cell_type": "code",
   "execution_count": 69,
   "metadata": {
    "scrolled": true
   },
   "outputs": [
    {
     "data": {
      "text/plain": [
       "0     342242\n",
       "1     308353\n",
       "2     307716\n",
       "3     240931\n",
       "4     196027\n",
       "5     191794\n",
       "6     162973\n",
       "7     155710\n",
       "8     135194\n",
       "9     130061\n",
       "10    112080\n",
       "11     94166\n",
       "12     88755\n",
       "13     83746\n",
       "14     79717\n",
       "15     78441\n",
       "16     59149\n",
       "17     55676\n",
       "18     53486\n",
       "19     50365\n",
       "20     44215\n",
       "21     42244\n",
       "22     38866\n",
       "23     22432\n",
       "24     22330\n",
       "25     21084\n",
       "26     16582\n",
       "27     10489\n",
       "28      7099\n",
       "29      3705\n",
       "30      1486\n",
       "31       606\n",
       "32       495\n",
       "33       117\n",
       "Name: Area (km2), dtype: int64"
      ]
     },
     "execution_count": 69,
     "metadata": {},
     "output_type": "execute_result"
    }
   ],
   "source": [
    "India_states['Area (km2)'].apply(lambda a:a + 3 )"
   ]
  },
  {
   "cell_type": "code",
   "execution_count": null,
   "metadata": {},
   "outputs": [],
   "source": []
  }
 ],
 "metadata": {
  "kernelspec": {
   "display_name": "Python 3",
   "language": "python",
   "name": "python3"
  },
  "language_info": {
   "codemirror_mode": {
    "name": "ipython",
    "version": 3
   },
   "file_extension": ".py",
   "mimetype": "text/x-python",
   "name": "python",
   "nbconvert_exporter": "python",
   "pygments_lexer": "ipython3",
   "version": "3.8.5"
  }
 },
 "nbformat": 4,
 "nbformat_minor": 4
}
